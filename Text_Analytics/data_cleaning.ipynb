{
 "cells": [
  {
   "cell_type": "markdown",
   "source": [
    "# Data Cleaning"
   ],
   "metadata": {
    "collapsed": false
   }
  },
  {
   "cell_type": "code",
   "execution_count": 179,
   "outputs": [],
   "source": [
    "# importing pandas for data analysis requisite libraries\n",
    "import pandas as pd\n",
    "# keeping future warnings from showing\n",
    "import warnings\n",
    "warnings.simplefilter(action='ignore', category=FutureWarning)"
   ],
   "metadata": {
    "collapsed": false,
    "ExecuteTime": {
     "start_time": "2023-04-24T16:11:13.564430Z",
     "end_time": "2023-04-24T16:11:13.602127Z"
    }
   }
  },
  {
   "cell_type": "code",
   "execution_count": 180,
   "metadata": {
    "collapsed": true,
    "ExecuteTime": {
     "start_time": "2023-04-24T16:11:13.568034Z",
     "end_time": "2023-04-24T16:11:13.748791Z"
    }
   },
   "outputs": [],
   "source": [
    "# reading in the scraped data from SCRAPSFROMTHELOFT\n",
    "comedy = pd.read_csv('comedy_v1.csv', sep='\\t') # data is tab separated to avoid issues with commas in the text"
   ]
  },
  {
   "cell_type": "code",
   "execution_count": 181,
   "outputs": [
    {
     "data": {
      "text/plain": "                                                  link  \\\n193  https://scrapsfromtheloft.com/comedy/mo-amer-t...   \n117  https://scrapsfromtheloft.com/comedy/dan-soder...   \n24   https://scrapsfromtheloft.com/comedy/mike-epps...   \n45   https://scrapsfromtheloft.com/comedy/tom-papa-...   \n170  https://scrapsfromtheloft.com/comedy/amy-schum...   \n367  https://scrapsfromtheloft.com/comedy/mike-birb...   \n343  https://scrapsfromtheloft.com/comedy/kevin-har...   \n46   https://scrapsfromtheloft.com/comedy/tom-papa-...   \n244  https://scrapsfromtheloft.com/comedy/stewart-l...   \n313  https://scrapsfromtheloft.com/comedy/gabriel-i...   \n\n                                             unique_id  \\\n193                    mo-amer-the-vagabond-transcript   \n117                 dan-soder-son-of-a-gary-transcript   \n24   mike-epps-under-rated-never-faded-x-rated-tran...   \n45               tom-papa-youre-doing-great-transcript   \n170                     amy-schumer-growing-transcript   \n367  mike-birbiglia-thank-god-jokes-2017-full-trans...   \n343    kevin-hart-seriously-funny-2010-full-transcript   \n46                      tom-papa-human-mule-transcript   \n244      stewart-lee-90s-comedian-2006-full-transcript   \n313  gabriel-iglesias-im-sorry-for-what-i-said-when...   \n\n                                                 date  \\\n193    \\t\\t\\t\\t\\t\\t\\t\\t\\t\\tOctober 11, 2018\\t\\t\\t\\t\\t   \n117    \\t\\t\\t\\t\\t\\t\\t\\t\\t\\tJanuary 23, 2020\\t\\t\\t\\t\\t   \n24         \\t\\t\\t\\t\\t\\t\\t\\t\\t\\tMay 26, 2022\\t\\t\\t\\t\\t   \n45        \\t\\t\\t\\t\\t\\t\\t\\t\\t\\tJune 28, 2021\\t\\t\\t\\t\\t   \n170      \\t\\t\\t\\t\\t\\t\\t\\t\\t\\tMarch 23, 2019\\t\\t\\t\\t\\t   \n367       \\t\\t\\t\\t\\t\\t\\t\\t\\t\\tJuly 26, 2017\\t\\t\\t\\t\\t   \n343   \\t\\t\\t\\t\\t\\t\\t\\t\\t\\tSeptember 2, 2017\\t\\t\\t\\t\\t   \n46        \\t\\t\\t\\t\\t\\t\\t\\t\\t\\tJune 26, 2021\\t\\t\\t\\t\\t   \n244       \\t\\t\\t\\t\\t\\t\\t\\t\\t\\tMarch 6, 2018\\t\\t\\t\\t\\t   \n313    \\t\\t\\t\\t\\t\\t\\t\\t\\t\\tNovember 6, 2017\\t\\t\\t\\t\\t   \n\n                                                 title  \\\n193     Mo Amer: The Vagabond (2018) – Full Transcript   \n117  Dan Soder: Son of a Gary (2019) – Full Transcript   \n24   Mike Epps: Under Rated… Never Faded & X-Rated ...   \n45   Tom Papa: You’re Doing Great! (2020) – Transcript   \n170      Amy Schumer: Growing (2019) – Full Transcript   \n367  Mike Birbiglia: Thank God for Jokes (2017) – T...   \n343    Kevin Hart: Seriously Funny (2010) – Transcript   \n46            Tom Papa: Human Mule (2016) – Transcript   \n244  STEWART LEE: 90s COMEDIAN (2006) – Full Transc...   \n313  GABRIEL IGLESIAS: I’M SORRY FOR WHAT I SAID WH...   \n\n                                                  text  \n193  A NETFLIX ORIGINAL COMEDY SPECIAL [audience ch...  \n117  Announcer: Ladies and gentlemen, Dan Soder! (c...  \n24   [Cheers and applause] Hoo! Hoo! Hoo! Hoo! Hoo!...  \n45   [applause, whooping] [presenter] Ladies and ge...  \n170  Yes! Thank you so much, Chicago. Thank you. I ...  \n367  [crowd chattering] Hi, I’m Jimmy Kimmel. Can I...  \n343  Whoa! Yeah, Cleveland. What’s up, Cleveland? H...  \n46   aired December 2016 [plodding music] ♪ [cheers...  \n244  Recorded on 10 March 2006 at Chapter Arts, Can...  \n313  [audience chanting] Fluffy! Fluffy! Fluffy! Fl...  ",
      "text/html": "<div>\n<style scoped>\n    .dataframe tbody tr th:only-of-type {\n        vertical-align: middle;\n    }\n\n    .dataframe tbody tr th {\n        vertical-align: top;\n    }\n\n    .dataframe thead th {\n        text-align: right;\n    }\n</style>\n<table border=\"1\" class=\"dataframe\">\n  <thead>\n    <tr style=\"text-align: right;\">\n      <th></th>\n      <th>link</th>\n      <th>unique_id</th>\n      <th>date</th>\n      <th>title</th>\n      <th>text</th>\n    </tr>\n  </thead>\n  <tbody>\n    <tr>\n      <th>193</th>\n      <td>https://scrapsfromtheloft.com/comedy/mo-amer-t...</td>\n      <td>mo-amer-the-vagabond-transcript</td>\n      <td>\\t\\t\\t\\t\\t\\t\\t\\t\\t\\tOctober 11, 2018\\t\\t\\t\\t\\t</td>\n      <td>Mo Amer: The Vagabond (2018) – Full Transcript</td>\n      <td>A NETFLIX ORIGINAL COMEDY SPECIAL [audience ch...</td>\n    </tr>\n    <tr>\n      <th>117</th>\n      <td>https://scrapsfromtheloft.com/comedy/dan-soder...</td>\n      <td>dan-soder-son-of-a-gary-transcript</td>\n      <td>\\t\\t\\t\\t\\t\\t\\t\\t\\t\\tJanuary 23, 2020\\t\\t\\t\\t\\t</td>\n      <td>Dan Soder: Son of a Gary (2019) – Full Transcript</td>\n      <td>Announcer: Ladies and gentlemen, Dan Soder! (c...</td>\n    </tr>\n    <tr>\n      <th>24</th>\n      <td>https://scrapsfromtheloft.com/comedy/mike-epps...</td>\n      <td>mike-epps-under-rated-never-faded-x-rated-tran...</td>\n      <td>\\t\\t\\t\\t\\t\\t\\t\\t\\t\\tMay 26, 2022\\t\\t\\t\\t\\t</td>\n      <td>Mike Epps: Under Rated… Never Faded &amp; X-Rated ...</td>\n      <td>[Cheers and applause] Hoo! Hoo! Hoo! Hoo! Hoo!...</td>\n    </tr>\n    <tr>\n      <th>45</th>\n      <td>https://scrapsfromtheloft.com/comedy/tom-papa-...</td>\n      <td>tom-papa-youre-doing-great-transcript</td>\n      <td>\\t\\t\\t\\t\\t\\t\\t\\t\\t\\tJune 28, 2021\\t\\t\\t\\t\\t</td>\n      <td>Tom Papa: You’re Doing Great! (2020) – Transcript</td>\n      <td>[applause, whooping] [presenter] Ladies and ge...</td>\n    </tr>\n    <tr>\n      <th>170</th>\n      <td>https://scrapsfromtheloft.com/comedy/amy-schum...</td>\n      <td>amy-schumer-growing-transcript</td>\n      <td>\\t\\t\\t\\t\\t\\t\\t\\t\\t\\tMarch 23, 2019\\t\\t\\t\\t\\t</td>\n      <td>Amy Schumer: Growing (2019) – Full Transcript</td>\n      <td>Yes! Thank you so much, Chicago. Thank you. I ...</td>\n    </tr>\n    <tr>\n      <th>367</th>\n      <td>https://scrapsfromtheloft.com/comedy/mike-birb...</td>\n      <td>mike-birbiglia-thank-god-jokes-2017-full-trans...</td>\n      <td>\\t\\t\\t\\t\\t\\t\\t\\t\\t\\tJuly 26, 2017\\t\\t\\t\\t\\t</td>\n      <td>Mike Birbiglia: Thank God for Jokes (2017) – T...</td>\n      <td>[crowd chattering] Hi, I’m Jimmy Kimmel. Can I...</td>\n    </tr>\n    <tr>\n      <th>343</th>\n      <td>https://scrapsfromtheloft.com/comedy/kevin-har...</td>\n      <td>kevin-hart-seriously-funny-2010-full-transcript</td>\n      <td>\\t\\t\\t\\t\\t\\t\\t\\t\\t\\tSeptember 2, 2017\\t\\t\\t\\t\\t</td>\n      <td>Kevin Hart: Seriously Funny (2010) – Transcript</td>\n      <td>Whoa! Yeah, Cleveland. What’s up, Cleveland? H...</td>\n    </tr>\n    <tr>\n      <th>46</th>\n      <td>https://scrapsfromtheloft.com/comedy/tom-papa-...</td>\n      <td>tom-papa-human-mule-transcript</td>\n      <td>\\t\\t\\t\\t\\t\\t\\t\\t\\t\\tJune 26, 2021\\t\\t\\t\\t\\t</td>\n      <td>Tom Papa: Human Mule (2016) – Transcript</td>\n      <td>aired December 2016 [plodding music] ♪ [cheers...</td>\n    </tr>\n    <tr>\n      <th>244</th>\n      <td>https://scrapsfromtheloft.com/comedy/stewart-l...</td>\n      <td>stewart-lee-90s-comedian-2006-full-transcript</td>\n      <td>\\t\\t\\t\\t\\t\\t\\t\\t\\t\\tMarch 6, 2018\\t\\t\\t\\t\\t</td>\n      <td>STEWART LEE: 90s COMEDIAN (2006) – Full Transc...</td>\n      <td>Recorded on 10 March 2006 at Chapter Arts, Can...</td>\n    </tr>\n    <tr>\n      <th>313</th>\n      <td>https://scrapsfromtheloft.com/comedy/gabriel-i...</td>\n      <td>gabriel-iglesias-im-sorry-for-what-i-said-when...</td>\n      <td>\\t\\t\\t\\t\\t\\t\\t\\t\\t\\tNovember 6, 2017\\t\\t\\t\\t\\t</td>\n      <td>GABRIEL IGLESIAS: I’M SORRY FOR WHAT I SAID WH...</td>\n      <td>[audience chanting] Fluffy! Fluffy! Fluffy! Fl...</td>\n    </tr>\n  </tbody>\n</table>\n</div>"
     },
     "execution_count": 181,
     "metadata": {},
     "output_type": "execute_result"
    }
   ],
   "source": [
    "# checking 10 random rows\n",
    "comedy.sample(10, replace=False)"
   ],
   "metadata": {
    "collapsed": false,
    "ExecuteTime": {
     "start_time": "2023-04-24T16:11:13.752280Z",
     "end_time": "2023-04-24T16:11:13.754776Z"
    }
   }
  },
  {
   "cell_type": "code",
   "execution_count": 182,
   "outputs": [
    {
     "data": {
      "text/plain": "count      416.000000\nmean     43809.841346\nstd      17850.147821\nmin       2584.000000\n25%      37267.750000\n50%      46336.000000\n75%      55466.250000\nmax      92222.000000\nName: text, dtype: float64"
     },
     "execution_count": 182,
     "metadata": {},
     "output_type": "execute_result"
    }
   ],
   "source": [
    "# checking sum stats for the lengths of the text columns--a small minimum would indicate at least one instance of a failed scrape\n",
    "comedy['text'].str.len().describe() # looks good--smallest length is 2584"
   ],
   "metadata": {
    "collapsed": false,
    "ExecuteTime": {
     "start_time": "2023-04-24T16:11:13.757288Z",
     "end_time": "2023-04-24T16:11:13.759564Z"
    }
   }
  },
  {
   "cell_type": "code",
   "execution_count": 183,
   "outputs": [],
   "source": [
    "# removing text between brackets as this was added on the site to document crowd reactions\n",
    "# ex: [Audience Applause] or [Audience Laughs Loudly]\n",
    "comedy['text'] = comedy['text'].str.replace(r'\\[.*?\\]', '')"
   ],
   "metadata": {
    "collapsed": false,
    "ExecuteTime": {
     "start_time": "2023-04-24T16:11:13.774359Z",
     "end_time": "2023-04-24T16:11:13.813289Z"
    }
   }
  },
  {
   "cell_type": "code",
   "execution_count": 184,
   "outputs": [
    {
     "data": {
      "text/plain": "count      416.000000\nmean     42849.264423\nstd      17599.456433\nmin       2572.000000\n25%      35948.750000\n50%      45251.500000\n75%      53690.500000\nmax      91585.000000\nName: text, dtype: float64"
     },
     "execution_count": 184,
     "metadata": {},
     "output_type": "execute_result"
    }
   ],
   "source": [
    "# checking the sum stats for the lengths of the text columns after removing the bracketed text\n",
    "comedy['text'].str.len().describe() # clearly that bracketed text was common--the mean text length decreased significantly"
   ],
   "metadata": {
    "collapsed": false,
    "ExecuteTime": {
     "start_time": "2023-04-24T16:11:13.787747Z",
     "end_time": "2023-04-24T16:11:13.816407Z"
    }
   }
  },
  {
   "cell_type": "code",
   "execution_count": 185,
   "outputs": [
    {
     "data": {
      "text/plain": "357    2013\n301    2014\n158    2015\n72     2020\n5      2023\n199     NaN\n51     2021\n137     NaN\n121    2015\n274    2000\n262    2015\n189    1998\n376    2017\n16     2022\n263    2004\n284    2013\n9      2022\n209    2018\n308    2010\n201    2015\nName: year, dtype: object"
     },
     "execution_count": 185,
     "metadata": {},
     "output_type": "execute_result"
    }
   ],
   "source": [
    "# creating a new column, year, by extracting the year from the title column\n",
    "comedy['year'] = comedy['title'].str.extract(r'(\\d{4})') # regular expression pattern matching 4 consecutive instances of digits [0-9]\n",
    "comedy['year'].sample(20, replace=False) # looks good"
   ],
   "metadata": {
    "collapsed": false,
    "ExecuteTime": {
     "start_time": "2023-04-24T16:11:13.793014Z",
     "end_time": "2023-04-24T16:11:13.816542Z"
    }
   }
  },
  {
   "cell_type": "code",
   "execution_count": 186,
   "outputs": [
    {
     "name": "stdout",
     "output_type": "stream",
     "text": [
      "5.29% of rows do not have an entry in the year column\n"
     ]
    }
   ],
   "source": [
    "# checking how many rows have a missing `year` from the total\n",
    "pct_missing_year = round(comedy['year'].isnull().sum()/len(comedy), 4) * 100\n",
    "print(f\"{pct_missing_year}% of rows do not have an entry in the year column\")"
   ],
   "metadata": {
    "collapsed": false,
    "ExecuteTime": {
     "start_time": "2023-04-24T16:11:13.795765Z",
     "end_time": "2023-04-24T16:11:13.816603Z"
    }
   }
  },
  {
   "cell_type": "code",
   "execution_count": 187,
   "outputs": [
    {
     "data": {
      "text/plain": "                                                  link  \\\n44   https://scrapsfromtheloft.com/comedy/dave-chap...   \n53   https://scrapsfromtheloft.com/comedy/george-ca...   \n55   https://scrapsfromtheloft.com/comedy/chris-roc...   \n77   https://scrapsfromtheloft.com/comedy/bill-hick...   \n83   https://scrapsfromtheloft.com/comedy/doug-stan...   \n103  https://scrapsfromtheloft.com/comedy/dave-alle...   \n106  https://scrapsfromtheloft.com/comedy/george-ca...   \n109  https://scrapsfromtheloft.com/comedy/bert-krei...   \n137  https://scrapsfromtheloft.com/comedy/dave-chap...   \n138  https://scrapsfromtheloft.com/comedy/brazil-co...   \n142  https://scrapsfromtheloft.com/comedy/kevin-har...   \n145  https://scrapsfromtheloft.com/comedy/tom-segur...   \n154  https://scrapsfromtheloft.com/comedy/doug-stan...   \n192  https://scrapsfromtheloft.com/comedy/comedy-ce...   \n198  https://scrapsfromtheloft.com/comedy/louis-ck-...   \n199  https://scrapsfromtheloft.com/comedy/louis-c-k...   \n232  https://scrapsfromtheloft.com/comedy/doug-stan...   \n314  https://scrapsfromtheloft.com/comedy/george-ca...   \n323  https://scrapsfromtheloft.com/comedy/george-ca...   \n325  https://scrapsfromtheloft.com/comedy/jim-jeffe...   \n396  https://scrapsfromtheloft.com/comedy/george-ca...   \n412  https://scrapsfromtheloft.com/comedy/jim-jeffe...   \n\n                                             unique_id  \\\n44                       dave-chappelle-846-transcript   \n53          george-carlin-politically-correct-language   \n55   chris-rock-total-blackout-the-tamborine-extend...   \n77      bill-hicks-censored-david-letterman-transcript   \n83       doug-stanhope-fear-of-an-empty-bed-transcript   \n103          dave-allen-first-day-at-school-transcript   \n106     george-carlin-indian-drill-sergeant-transcript   \n109          bert-kreischer-fighting-a-bear-transcript   \n137  dave-chappelle-sticks-stones-epilogue-punchlin...   \n138              brazil-corruption-amazon-hasan-minhaj   \n142              kevin-hart-gun-compartment-transcript   \n145  tom-segura-overdoses-this-is-not-happening-tra...   \n154                  doug-stanhope-babies-and-abortion   \n192  comedy-central-presents-tom-segura-s15e01-tran...   \n198      louis-ck-snl-monologue-s38e06-2012-transcript   \n199  louis-c-k-snl-monologue-march-29-2014-full-tra...   \n232                       doug-stanhope-on-nationalism   \n314  george-carlin-pro-life-abortion-and-the-sancti...   \n323                 george-carlin-religion-is-bullshit   \n325  jim-jefferies-e-il-controllo-della-armi-in-ame...   \n396  george-carlin-seven-words-you-can-never-say-on...   \n412          jim-jefferies-gun-control-full-transcript   \n\n                                                 date  \\\n44       \\t\\t\\t\\t\\t\\t\\t\\t\\t\\tAugust 5, 2021\\t\\t\\t\\t\\t   \n53    \\t\\t\\t\\t\\t\\t\\t\\t\\t\\tFebruary 18, 2021\\t\\t\\t\\t\\t   \n55     \\t\\t\\t\\t\\t\\t\\t\\t\\t\\tJanuary 15, 2021\\t\\t\\t\\t\\t   \n77         \\t\\t\\t\\t\\t\\t\\t\\t\\t\\tJuly 5, 2020\\t\\t\\t\\t\\t   \n83         \\t\\t\\t\\t\\t\\t\\t\\t\\t\\tJune 9, 2020\\t\\t\\t\\t\\t   \n103      \\t\\t\\t\\t\\t\\t\\t\\t\\t\\tApril 30, 2020\\t\\t\\t\\t\\t   \n106      \\t\\t\\t\\t\\t\\t\\t\\t\\t\\tApril 13, 2020\\t\\t\\t\\t\\t   \n109      \\t\\t\\t\\t\\t\\t\\t\\t\\t\\tMarch 21, 2020\\t\\t\\t\\t\\t   \n137     \\t\\t\\t\\t\\t\\t\\t\\t\\t\\tAugust 29, 2019\\t\\t\\t\\t\\t   \n138     \\t\\t\\t\\t\\t\\t\\t\\t\\t\\tAugust 26, 2019\\t\\t\\t\\t\\t   \n142      \\t\\t\\t\\t\\t\\t\\t\\t\\t\\tAugust 8, 2019\\t\\t\\t\\t\\t   \n145       \\t\\t\\t\\t\\t\\t\\t\\t\\t\\tJuly 14, 2019\\t\\t\\t\\t\\t   \n154        \\t\\t\\t\\t\\t\\t\\t\\t\\t\\tMay 18, 2019\\t\\t\\t\\t\\t   \n192    \\t\\t\\t\\t\\t\\t\\t\\t\\t\\tOctober 13, 2018\\t\\t\\t\\t\\t   \n198     \\t\\t\\t\\t\\t\\t\\t\\t\\t\\tOctober 2, 2018\\t\\t\\t\\t\\t   \n199     \\t\\t\\t\\t\\t\\t\\t\\t\\t\\tOctober 2, 2018\\t\\t\\t\\t\\t   \n232        \\t\\t\\t\\t\\t\\t\\t\\t\\t\\tMay 16, 2018\\t\\t\\t\\t\\t   \n314    \\t\\t\\t\\t\\t\\t\\t\\t\\t\\tOctober 25, 2017\\t\\t\\t\\t\\t   \n323     \\t\\t\\t\\t\\t\\t\\t\\t\\t\\tOctober 3, 2017\\t\\t\\t\\t\\t   \n325     \\t\\t\\t\\t\\t\\t\\t\\t\\t\\tOctober 2, 2017\\t\\t\\t\\t\\t   \n396      \\t\\t\\t\\t\\t\\t\\t\\t\\t\\tApril 26, 2017\\t\\t\\t\\t\\t   \n412       \\t\\t\\t\\t\\t\\t\\t\\t\\t\\tApril 1, 2017\\t\\t\\t\\t\\t   \n\n                                                 title  \\\n44                   Dave Chappelle: 8:46 – Transcript   \n53         George Carlin: Politically Correct Language   \n55   Chris Rock Total Blackout: The Tamborine Exten...   \n77   BILL HICKS: THE CENSORED SEVEN MINUTES ON LATE...   \n83    DOUG STANHOPE: FEAR OF AN EMPTY BED [TRANSCRIPT]   \n103  DAVE ALLEN: FIRST DAY AT CATHOLIC SCHOOL [TRAN...   \n106  George Carlin: The Indian Drill Sergeant – Tra...   \n109       Bert Kreischer: Fighting A Bear [Transcript]   \n137  Dave Chappelle: Sticks & Stones | Epilogue: Th...   \n138  Brazil, Corruption and the Amazon Rainforest |...   \n142           Kevin Hart: Gun Compartment [Transcript]   \n145  Tom Segura Overdoses – This Is Not Happening [...   \n154               Doug Stanhope on babies and abortion   \n192  Comedy Central Presents: Tom Segura [S15e01] –...   \n198  Louis C.K.: SNL Monologue S38E06 [11/03/12] – ...   \n199  Louis C.K.: SNL Monologue S39E16 [03/29/14] – ...   \n232                       DOUG STANHOPE ON NATIONALISM   \n314         GEORGE CARLIN ON ABORTION AND “PRO-LIFERS”   \n323   GEORGE CARLIN: RELIGION IS BULLSHIT [TRANSCRIPT]   \n325  JIM JEFFERIES E IL CONTROLLO DELLE ARMI IN AME...   \n396  George Carlin: Seven Words You Can Never Say o...   \n412     Jim Jefferies on Gun Control [Full Transcript]   \n\n                                                  text year  \n44   8:46 is a performance special by comedian Dave...  NaN  \n53   I know I’m a little late with this, but I’d li...  NaN  \n55    Were you at the, uh, White House party?  Yes,...  NaN  \n77   On October 1, 1993, Hicks was scheduled to app...  NaN  \n83   Comedy Central, Oct 4, 2016 After a bad breaku...  NaN  \n103  Dave Allen on his first day at Catholic school...  NaN  \n106  In 1965 “The Indian Sergeant,” was emerging as...  NaN  \n109  The machine, Mr. Bert Kreischer, everybody. Le...  NaN  \n137  Tacked onto the end of the Dave Chappelle’s St...  NaN  \n138  On this episode of Patriot Act, Hasan breaks d...  NaN  \n142  Kevin Hart acts out fantasy scenarios of drawi...  NaN  \n145  This woman goes “Hey Tom, you are in the emerg...  NaN  \n154  Immigration. There’s too many people in this f...  NaN  \n192  Yes. I agree. I totally agree. Totally. It’s g...  NaN  \n198  Announcer: Ladies and gentlemen — Louis C.K.! ...  NaN  \n199  Saturday Night Live  Season 39: Episode 16 Ann...  NaN  \n232  From No Refunds, recorded at the Gotham Comedy...  NaN  \n314  George Carlin on the 1996 HBO special “Back in...  NaN  \n323  When it comes to bullshit, big-time, major lea...  NaN  \n325  Il comico australiano Jim Jefferies ridicolizz...  NaN  \n396  The original version of George Carlin’s classi...  NaN  \n412  by Jim Jefferies I’m gonna talk about somethin...  NaN  ",
      "text/html": "<div>\n<style scoped>\n    .dataframe tbody tr th:only-of-type {\n        vertical-align: middle;\n    }\n\n    .dataframe tbody tr th {\n        vertical-align: top;\n    }\n\n    .dataframe thead th {\n        text-align: right;\n    }\n</style>\n<table border=\"1\" class=\"dataframe\">\n  <thead>\n    <tr style=\"text-align: right;\">\n      <th></th>\n      <th>link</th>\n      <th>unique_id</th>\n      <th>date</th>\n      <th>title</th>\n      <th>text</th>\n      <th>year</th>\n    </tr>\n  </thead>\n  <tbody>\n    <tr>\n      <th>44</th>\n      <td>https://scrapsfromtheloft.com/comedy/dave-chap...</td>\n      <td>dave-chappelle-846-transcript</td>\n      <td>\\t\\t\\t\\t\\t\\t\\t\\t\\t\\tAugust 5, 2021\\t\\t\\t\\t\\t</td>\n      <td>Dave Chappelle: 8:46 – Transcript</td>\n      <td>8:46 is a performance special by comedian Dave...</td>\n      <td>NaN</td>\n    </tr>\n    <tr>\n      <th>53</th>\n      <td>https://scrapsfromtheloft.com/comedy/george-ca...</td>\n      <td>george-carlin-politically-correct-language</td>\n      <td>\\t\\t\\t\\t\\t\\t\\t\\t\\t\\tFebruary 18, 2021\\t\\t\\t\\t\\t</td>\n      <td>George Carlin: Politically Correct Language</td>\n      <td>I know I’m a little late with this, but I’d li...</td>\n      <td>NaN</td>\n    </tr>\n    <tr>\n      <th>55</th>\n      <td>https://scrapsfromtheloft.com/comedy/chris-roc...</td>\n      <td>chris-rock-total-blackout-the-tamborine-extend...</td>\n      <td>\\t\\t\\t\\t\\t\\t\\t\\t\\t\\tJanuary 15, 2021\\t\\t\\t\\t\\t</td>\n      <td>Chris Rock Total Blackout: The Tamborine Exten...</td>\n      <td>Were you at the, uh, White House party?  Yes,...</td>\n      <td>NaN</td>\n    </tr>\n    <tr>\n      <th>77</th>\n      <td>https://scrapsfromtheloft.com/comedy/bill-hick...</td>\n      <td>bill-hicks-censored-david-letterman-transcript</td>\n      <td>\\t\\t\\t\\t\\t\\t\\t\\t\\t\\tJuly 5, 2020\\t\\t\\t\\t\\t</td>\n      <td>BILL HICKS: THE CENSORED SEVEN MINUTES ON LATE...</td>\n      <td>On October 1, 1993, Hicks was scheduled to app...</td>\n      <td>NaN</td>\n    </tr>\n    <tr>\n      <th>83</th>\n      <td>https://scrapsfromtheloft.com/comedy/doug-stan...</td>\n      <td>doug-stanhope-fear-of-an-empty-bed-transcript</td>\n      <td>\\t\\t\\t\\t\\t\\t\\t\\t\\t\\tJune 9, 2020\\t\\t\\t\\t\\t</td>\n      <td>DOUG STANHOPE: FEAR OF AN EMPTY BED [TRANSCRIPT]</td>\n      <td>Comedy Central, Oct 4, 2016 After a bad breaku...</td>\n      <td>NaN</td>\n    </tr>\n    <tr>\n      <th>103</th>\n      <td>https://scrapsfromtheloft.com/comedy/dave-alle...</td>\n      <td>dave-allen-first-day-at-school-transcript</td>\n      <td>\\t\\t\\t\\t\\t\\t\\t\\t\\t\\tApril 30, 2020\\t\\t\\t\\t\\t</td>\n      <td>DAVE ALLEN: FIRST DAY AT CATHOLIC SCHOOL [TRAN...</td>\n      <td>Dave Allen on his first day at Catholic school...</td>\n      <td>NaN</td>\n    </tr>\n    <tr>\n      <th>106</th>\n      <td>https://scrapsfromtheloft.com/comedy/george-ca...</td>\n      <td>george-carlin-indian-drill-sergeant-transcript</td>\n      <td>\\t\\t\\t\\t\\t\\t\\t\\t\\t\\tApril 13, 2020\\t\\t\\t\\t\\t</td>\n      <td>George Carlin: The Indian Drill Sergeant – Tra...</td>\n      <td>In 1965 “The Indian Sergeant,” was emerging as...</td>\n      <td>NaN</td>\n    </tr>\n    <tr>\n      <th>109</th>\n      <td>https://scrapsfromtheloft.com/comedy/bert-krei...</td>\n      <td>bert-kreischer-fighting-a-bear-transcript</td>\n      <td>\\t\\t\\t\\t\\t\\t\\t\\t\\t\\tMarch 21, 2020\\t\\t\\t\\t\\t</td>\n      <td>Bert Kreischer: Fighting A Bear [Transcript]</td>\n      <td>The machine, Mr. Bert Kreischer, everybody. Le...</td>\n      <td>NaN</td>\n    </tr>\n    <tr>\n      <th>137</th>\n      <td>https://scrapsfromtheloft.com/comedy/dave-chap...</td>\n      <td>dave-chappelle-sticks-stones-epilogue-punchlin...</td>\n      <td>\\t\\t\\t\\t\\t\\t\\t\\t\\t\\tAugust 29, 2019\\t\\t\\t\\t\\t</td>\n      <td>Dave Chappelle: Sticks &amp; Stones | Epilogue: Th...</td>\n      <td>Tacked onto the end of the Dave Chappelle’s St...</td>\n      <td>NaN</td>\n    </tr>\n    <tr>\n      <th>138</th>\n      <td>https://scrapsfromtheloft.com/comedy/brazil-co...</td>\n      <td>brazil-corruption-amazon-hasan-minhaj</td>\n      <td>\\t\\t\\t\\t\\t\\t\\t\\t\\t\\tAugust 26, 2019\\t\\t\\t\\t\\t</td>\n      <td>Brazil, Corruption and the Amazon Rainforest |...</td>\n      <td>On this episode of Patriot Act, Hasan breaks d...</td>\n      <td>NaN</td>\n    </tr>\n    <tr>\n      <th>142</th>\n      <td>https://scrapsfromtheloft.com/comedy/kevin-har...</td>\n      <td>kevin-hart-gun-compartment-transcript</td>\n      <td>\\t\\t\\t\\t\\t\\t\\t\\t\\t\\tAugust 8, 2019\\t\\t\\t\\t\\t</td>\n      <td>Kevin Hart: Gun Compartment [Transcript]</td>\n      <td>Kevin Hart acts out fantasy scenarios of drawi...</td>\n      <td>NaN</td>\n    </tr>\n    <tr>\n      <th>145</th>\n      <td>https://scrapsfromtheloft.com/comedy/tom-segur...</td>\n      <td>tom-segura-overdoses-this-is-not-happening-tra...</td>\n      <td>\\t\\t\\t\\t\\t\\t\\t\\t\\t\\tJuly 14, 2019\\t\\t\\t\\t\\t</td>\n      <td>Tom Segura Overdoses – This Is Not Happening [...</td>\n      <td>This woman goes “Hey Tom, you are in the emerg...</td>\n      <td>NaN</td>\n    </tr>\n    <tr>\n      <th>154</th>\n      <td>https://scrapsfromtheloft.com/comedy/doug-stan...</td>\n      <td>doug-stanhope-babies-and-abortion</td>\n      <td>\\t\\t\\t\\t\\t\\t\\t\\t\\t\\tMay 18, 2019\\t\\t\\t\\t\\t</td>\n      <td>Doug Stanhope on babies and abortion</td>\n      <td>Immigration. There’s too many people in this f...</td>\n      <td>NaN</td>\n    </tr>\n    <tr>\n      <th>192</th>\n      <td>https://scrapsfromtheloft.com/comedy/comedy-ce...</td>\n      <td>comedy-central-presents-tom-segura-s15e01-tran...</td>\n      <td>\\t\\t\\t\\t\\t\\t\\t\\t\\t\\tOctober 13, 2018\\t\\t\\t\\t\\t</td>\n      <td>Comedy Central Presents: Tom Segura [S15e01] –...</td>\n      <td>Yes. I agree. I totally agree. Totally. It’s g...</td>\n      <td>NaN</td>\n    </tr>\n    <tr>\n      <th>198</th>\n      <td>https://scrapsfromtheloft.com/comedy/louis-ck-...</td>\n      <td>louis-ck-snl-monologue-s38e06-2012-transcript</td>\n      <td>\\t\\t\\t\\t\\t\\t\\t\\t\\t\\tOctober 2, 2018\\t\\t\\t\\t\\t</td>\n      <td>Louis C.K.: SNL Monologue S38E06 [11/03/12] – ...</td>\n      <td>Announcer: Ladies and gentlemen — Louis C.K.! ...</td>\n      <td>NaN</td>\n    </tr>\n    <tr>\n      <th>199</th>\n      <td>https://scrapsfromtheloft.com/comedy/louis-c-k...</td>\n      <td>louis-c-k-snl-monologue-march-29-2014-full-tra...</td>\n      <td>\\t\\t\\t\\t\\t\\t\\t\\t\\t\\tOctober 2, 2018\\t\\t\\t\\t\\t</td>\n      <td>Louis C.K.: SNL Monologue S39E16 [03/29/14] – ...</td>\n      <td>Saturday Night Live  Season 39: Episode 16 Ann...</td>\n      <td>NaN</td>\n    </tr>\n    <tr>\n      <th>232</th>\n      <td>https://scrapsfromtheloft.com/comedy/doug-stan...</td>\n      <td>doug-stanhope-on-nationalism</td>\n      <td>\\t\\t\\t\\t\\t\\t\\t\\t\\t\\tMay 16, 2018\\t\\t\\t\\t\\t</td>\n      <td>DOUG STANHOPE ON NATIONALISM</td>\n      <td>From No Refunds, recorded at the Gotham Comedy...</td>\n      <td>NaN</td>\n    </tr>\n    <tr>\n      <th>314</th>\n      <td>https://scrapsfromtheloft.com/comedy/george-ca...</td>\n      <td>george-carlin-pro-life-abortion-and-the-sancti...</td>\n      <td>\\t\\t\\t\\t\\t\\t\\t\\t\\t\\tOctober 25, 2017\\t\\t\\t\\t\\t</td>\n      <td>GEORGE CARLIN ON ABORTION AND “PRO-LIFERS”</td>\n      <td>George Carlin on the 1996 HBO special “Back in...</td>\n      <td>NaN</td>\n    </tr>\n    <tr>\n      <th>323</th>\n      <td>https://scrapsfromtheloft.com/comedy/george-ca...</td>\n      <td>george-carlin-religion-is-bullshit</td>\n      <td>\\t\\t\\t\\t\\t\\t\\t\\t\\t\\tOctober 3, 2017\\t\\t\\t\\t\\t</td>\n      <td>GEORGE CARLIN: RELIGION IS BULLSHIT [TRANSCRIPT]</td>\n      <td>When it comes to bullshit, big-time, major lea...</td>\n      <td>NaN</td>\n    </tr>\n    <tr>\n      <th>325</th>\n      <td>https://scrapsfromtheloft.com/comedy/jim-jeffe...</td>\n      <td>jim-jefferies-e-il-controllo-della-armi-in-ame...</td>\n      <td>\\t\\t\\t\\t\\t\\t\\t\\t\\t\\tOctober 2, 2017\\t\\t\\t\\t\\t</td>\n      <td>JIM JEFFERIES E IL CONTROLLO DELLE ARMI IN AME...</td>\n      <td>Il comico australiano Jim Jefferies ridicolizz...</td>\n      <td>NaN</td>\n    </tr>\n    <tr>\n      <th>396</th>\n      <td>https://scrapsfromtheloft.com/comedy/george-ca...</td>\n      <td>george-carlin-seven-words-you-can-never-say-on...</td>\n      <td>\\t\\t\\t\\t\\t\\t\\t\\t\\t\\tApril 26, 2017\\t\\t\\t\\t\\t</td>\n      <td>George Carlin: Seven Words You Can Never Say o...</td>\n      <td>The original version of George Carlin’s classi...</td>\n      <td>NaN</td>\n    </tr>\n    <tr>\n      <th>412</th>\n      <td>https://scrapsfromtheloft.com/comedy/jim-jeffe...</td>\n      <td>jim-jefferies-gun-control-full-transcript</td>\n      <td>\\t\\t\\t\\t\\t\\t\\t\\t\\t\\tApril 1, 2017\\t\\t\\t\\t\\t</td>\n      <td>Jim Jefferies on Gun Control [Full Transcript]</td>\n      <td>by Jim Jefferies I’m gonna talk about somethin...</td>\n      <td>NaN</td>\n    </tr>\n  </tbody>\n</table>\n</div>"
     },
     "execution_count": 187,
     "metadata": {},
     "output_type": "execute_result"
    }
   ],
   "source": [
    "# checking the rows with missing year values\n",
    "comedy[comedy[\"year\"].isna()]"
   ],
   "metadata": {
    "collapsed": false,
    "ExecuteTime": {
     "start_time": "2023-04-24T16:11:13.798364Z",
     "end_time": "2023-04-24T16:11:13.816684Z"
    }
   }
  },
  {
   "cell_type": "code",
   "execution_count": 188,
   "outputs": [],
   "source": [
    "# copying the comedy dataframe to a new dataframe\n",
    "comedy_original = comedy.copy()"
   ],
   "metadata": {
    "collapsed": false,
    "ExecuteTime": {
     "start_time": "2023-04-24T16:11:13.805199Z",
     "end_time": "2023-04-24T16:11:13.816715Z"
    }
   }
  },
  {
   "cell_type": "code",
   "execution_count": 189,
   "outputs": [],
   "source": [
    "# dropping rows with missing year, assigning the result to 'comedy'\n",
    "comedy = comedy_original.dropna(subset=['year'])"
   ],
   "metadata": {
    "collapsed": false,
    "ExecuteTime": {
     "start_time": "2023-04-24T16:11:13.808338Z",
     "end_time": "2023-04-24T16:11:13.816746Z"
    }
   }
  },
  {
   "cell_type": "code",
   "execution_count": 190,
   "outputs": [
    {
     "data": {
      "text/plain": "394"
     },
     "execution_count": 190,
     "metadata": {},
     "output_type": "execute_result"
    }
   ],
   "source": [
    "# checking the number of rows\n",
    "len(comedy)"
   ],
   "metadata": {
    "collapsed": false,
    "ExecuteTime": {
     "start_time": "2023-04-24T16:11:13.810808Z",
     "end_time": "2023-04-24T16:11:13.816828Z"
    }
   }
  },
  {
   "cell_type": "code",
   "execution_count": 191,
   "outputs": [
    {
     "data": {
      "text/plain": "386"
     },
     "execution_count": 191,
     "metadata": {},
     "output_type": "execute_result"
    }
   ],
   "source": [
    "# removing transcripts that are spanish and italian translations of the originals (title will contain the word 'italian' or 'completa')\n",
    "comedy = comedy[~comedy['title'].str.contains('italian')]\n",
    "comedy = comedy[~comedy['title'].str.contains('completa')]\n",
    "# re checking the number of rows\n",
    "len(comedy)"
   ],
   "metadata": {
    "collapsed": false,
    "ExecuteTime": {
     "start_time": "2023-04-24T16:11:13.814776Z",
     "end_time": "2023-04-24T16:11:13.816935Z"
    }
   }
  },
  {
   "cell_type": "code",
   "execution_count": 192,
   "outputs": [],
   "source": [
    "# converting the year column to numeric\n",
    "comedy['year'] = pd.to_numeric(comedy['year'])"
   ],
   "metadata": {
    "collapsed": false,
    "ExecuteTime": {
     "start_time": "2023-04-24T16:11:13.819583Z",
     "end_time": "2023-04-24T16:11:13.823348Z"
    }
   }
  },
  {
   "cell_type": "code",
   "execution_count": 193,
   "outputs": [
    {
     "data": {
      "text/plain": "count     386.000000\nmean     2013.046632\nstd         9.899385\nmin      1963.000000\n25%      2011.000000\n50%      2016.000000\n75%      2019.000000\nmax      2023.000000\nName: year, dtype: float64"
     },
     "execution_count": 193,
     "metadata": {},
     "output_type": "execute_result"
    }
   ],
   "source": [
    "# checking the 5 num sum of the year column\n",
    "comedy['year'].describe()"
   ],
   "metadata": {
    "collapsed": false,
    "ExecuteTime": {
     "start_time": "2023-04-24T16:11:13.822216Z",
     "end_time": "2023-04-24T16:11:13.828612Z"
    }
   }
  },
  {
   "cell_type": "code",
   "execution_count": 194,
   "outputs": [
    {
     "data": {
      "text/plain": "<Axes: >"
     },
     "execution_count": 194,
     "metadata": {},
     "output_type": "execute_result"
    },
    {
     "data": {
      "text/plain": "<Figure size 640x480 with 1 Axes>",
      "image/png": "[encoded data removed]"
     },
     "metadata": {},
     "output_type": "display_data"
    }
   ],
   "source": [
    "# checking the distribution of the year column\n",
    "comedy['year'].hist(grid=False) # the data is heavily skewed to the right, most of the transcripts are from the 2010s and on"
   ],
   "metadata": {
    "collapsed": false,
    "ExecuteTime": {
     "start_time": "2023-04-24T16:11:13.826763Z",
     "end_time": "2023-04-24T16:11:13.916073Z"
    }
   }
  },
  {
   "cell_type": "code",
   "execution_count": 195,
   "outputs": [
    {
     "data": {
      "text/plain": "Index(['link', 'unique_id', 'date', 'title', 'text', 'year'], dtype='object')"
     },
     "execution_count": 195,
     "metadata": {},
     "output_type": "execute_result"
    }
   ],
   "source": [
    "comedy.columns"
   ],
   "metadata": {
    "collapsed": false,
    "ExecuteTime": {
     "start_time": "2023-04-24T16:11:13.916125Z",
     "end_time": "2023-04-24T16:11:13.927667Z"
    }
   }
  },
  {
   "cell_type": "code",
   "execution_count": 196,
   "outputs": [],
   "source": [
    "# subsetting the dataframe to only include the necessary columns: year, title, text\n",
    "comedy = comedy[['year', 'title', 'text']]"
   ],
   "metadata": {
    "collapsed": false,
    "ExecuteTime": {
     "start_time": "2023-04-24T16:11:13.919589Z",
     "end_time": "2023-04-24T16:11:13.927842Z"
    }
   }
  },
  {
   "cell_type": "code",
   "execution_count": 197,
   "outputs": [],
   "source": [
    "# removing unwanted text from each title\n",
    "# making a list of unwanted text items\n",
    "to_remove = [\"full transcript\", \"transcript\", \"|\", \"–\", \"[\", \"]\"]\n",
    "# iterating through the list and removing each item from the title column\n",
    "for item in to_remove:\n",
    "    comedy['title'] = comedy['title'].str.lower().str.replace(item, '')"
   ],
   "metadata": {
    "collapsed": false,
    "ExecuteTime": {
     "start_time": "2023-04-24T16:11:13.925279Z",
     "end_time": "2023-04-24T16:11:13.927898Z"
    }
   }
  },
  {
   "cell_type": "code",
   "execution_count": 198,
   "outputs": [
    {
     "data": {
      "text/plain": "174         ken jeong: you complete me, ho (2019)  \n125               michelle wolf: joke show (2019)  \n305        sarah silverman: jesus is magic (2005)  \n61       craig ferguson: just being honest (2015)  \n62            kevin hart: zero f**ks given (2020)  \n151                  jo koy: comin’ in hot (2019)  \n168              kevin hart: irresponsible (2019)  \n22         norm macdonald: nothing special (2022)  \n380                  louis c.k.: shameless (2007)  \n239    george carlin: you are all diseased (1999)  \nName: title, dtype: object"
     },
     "execution_count": 198,
     "metadata": {},
     "output_type": "execute_result"
    }
   ],
   "source": [
    "# checking the results\n",
    "comedy['title'].sample(10, replace=False)"
   ],
   "metadata": {
    "collapsed": false,
    "ExecuteTime": {
     "start_time": "2023-04-24T16:11:13.928759Z",
     "end_time": "2023-04-24T16:11:13.932559Z"
    }
   }
  },
  {
   "cell_type": "code",
   "execution_count": 199,
   "outputs": [
    {
     "name": "stdout",
     "output_type": "stream",
     "text": [
      "<class 'pandas.core.frame.DataFrame'>\n",
      "Int64Index: 386 entries, 0 to 415\n",
      "Data columns (total 3 columns):\n",
      " #   Column  Non-Null Count  Dtype \n",
      "---  ------  --------------  ----- \n",
      " 0   year    386 non-null    int64 \n",
      " 1   title   386 non-null    object\n",
      " 2   text    386 non-null    object\n",
      "dtypes: int64(1), object(2)\n",
      "memory usage: 12.1+ KB\n"
     ]
    }
   ],
   "source": [
    "comedy.info()"
   ],
   "metadata": {
    "collapsed": false,
    "ExecuteTime": {
     "start_time": "2023-04-24T16:11:13.932293Z",
     "end_time": "2023-04-24T16:11:13.940344Z"
    }
   }
  },
  {
   "cell_type": "code",
   "execution_count": 200,
   "outputs": [
    {
     "data": {
      "text/plain": "Empty DataFrame\nColumns: [year, title, text]\nIndex: []",
      "text/html": "<div>\n<style scoped>\n    .dataframe tbody tr th:only-of-type {\n        vertical-align: middle;\n    }\n\n    .dataframe tbody tr th {\n        vertical-align: top;\n    }\n\n    .dataframe thead th {\n        text-align: right;\n    }\n</style>\n<table border=\"1\" class=\"dataframe\">\n  <thead>\n    <tr style=\"text-align: right;\">\n      <th></th>\n      <th>year</th>\n      <th>title</th>\n      <th>text</th>\n    </tr>\n  </thead>\n  <tbody>\n  </tbody>\n</table>\n</div>"
     },
     "execution_count": 200,
     "metadata": {},
     "output_type": "execute_result"
    }
   ],
   "source": [
    "# checking rows where the title contains the word italian\n",
    "comedy[comedy['title'].str.contains('italian')]"
   ],
   "metadata": {
    "collapsed": false,
    "ExecuteTime": {
     "start_time": "2023-04-24T16:11:13.938380Z",
     "end_time": "2023-04-24T16:11:13.988108Z"
    }
   }
  },
  {
   "cell_type": "code",
   "execution_count": 201,
   "outputs": [],
   "source": [
    "# writing the cleaned dataframe to a csv file using the tab delimiter\n",
    "comedy.to_csv('comedy_cleaned.csv', sep='\\t', index=False)"
   ],
   "metadata": {
    "collapsed": false,
    "ExecuteTime": {
     "start_time": "2023-04-24T16:11:13.941107Z",
     "end_time": "2023-04-24T16:11:14.114314Z"
    }
   }
  }
 ],
 "metadata": {
  "kernelspec": {
   "display_name": "Python 3",
   "language": "python",
   "name": "python3"
  },
  "language_info": {
   "codemirror_mode": {
    "name": "ipython",
    "version": 2
   },
   "file_extension": ".py",
   "mimetype": "text/x-python",
   "name": "python",
   "nbconvert_exporter": "python",
   "pygments_lexer": "ipython2",
   "version": "2.7.6"
  }
 },
 "nbformat": 4,
 "nbformat_minor": 0
}
