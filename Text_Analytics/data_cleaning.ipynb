{
 "cells": [
  {
   "cell_type": "markdown",
   "source": [
    "# Data Cleaning"
   ],
   "metadata": {
    "collapsed": false
   }
  },
  {
   "cell_type": "code",
   "execution_count": 45,
   "outputs": [],
   "source": [
    "# importing pandas for data analysis requisite libraries\n",
    "import pandas as pd"
   ],
   "metadata": {
    "collapsed": false,
    "ExecuteTime": {
     "start_time": "2023-04-23T15:17:17.986520Z",
     "end_time": "2023-04-23T15:17:17.990993Z"
    }
   }
  },
  {
   "cell_type": "code",
   "execution_count": 46,
   "metadata": {
    "collapsed": true,
    "ExecuteTime": {
     "start_time": "2023-04-23T15:17:17.989441Z",
     "end_time": "2023-04-23T15:17:18.172656Z"
    }
   },
   "outputs": [],
   "source": [
    "# reading in the scraped data from SCRAPSFROMTHELOFT\n",
    "comedy = pd.read_csv('filepath of the raw data', sep='\\t') # data is tab separated to avoid issues with commas in the text"
   ]
  },
  {
   "cell_type": "code",
   "execution_count": 47,
   "outputs": [
    {
     "data": {
      "text/plain": "                                                  link  \\\n253  https://scrapsfromtheloft.com/comedy/eddie-izz...   \n330  https://scrapsfromtheloft.com/comedy/john-mula...   \n214  https://scrapsfromtheloft.com/comedy/jim-gaffi...   \n212  https://scrapsfromtheloft.com/comedy/iliza-shl...   \n395  https://scrapsfromtheloft.com/comedy/richard-p...   \n90   https://scrapsfromtheloft.com/comedy/patton-os...   \n134  https://scrapsfromtheloft.com/comedy/mark-norm...   \n192  https://scrapsfromtheloft.com/comedy/comedy-ce...   \n288  https://scrapsfromtheloft.com/comedy/russell-h...   \n147  https://scrapsfromtheloft.com/comedy/ralphie-m...   \n\n                                             unique_id  \\\n253         eddie-izzard-stripped-2009-full-transcript   \n330      john-mulaney-new-in-town-2012-full-transcript   \n214             jim-gaffigan-noble-ape-full-transcript   \n212        iliza-shlesinger-confirmed-kills-transcript   \n395  richard-pryor-live-sunset-strip-1982-full-tran...   \n90          patton-oswalt-i-love-everything-transcript   \n134  mark-normand-stand-up-tonight-show-starring-ji...   \n192  comedy-central-presents-tom-segura-s15e01-tran...   \n288    russell-howard-recalibrate-2017-full-transcript   \n147          ralphie-may-filthy-animal-tour-transcript   \n\n                                                  date  \\\n253     \\t\\t\\t\\t\\t\\t\\t\\t\\t\\tFebruary 8, 2018\\t\\t\\t\\t\\t   \n330   \\t\\t\\t\\t\\t\\t\\t\\t\\t\\tSeptember 25, 2017\\t\\t\\t\\t\\t   \n214        \\t\\t\\t\\t\\t\\t\\t\\t\\t\\tJuly 26, 2018\\t\\t\\t\\t\\t   \n212        \\t\\t\\t\\t\\t\\t\\t\\t\\t\\tJuly 31, 2018\\t\\t\\t\\t\\t   \n395       \\t\\t\\t\\t\\t\\t\\t\\t\\t\\tApril 26, 2017\\t\\t\\t\\t\\t   \n90          \\t\\t\\t\\t\\t\\t\\t\\t\\t\\tMay 20, 2020\\t\\t\\t\\t\\t   \n134   \\t\\t\\t\\t\\t\\t\\t\\t\\t\\tSeptember 21, 2019\\t\\t\\t\\t\\t   \n192     \\t\\t\\t\\t\\t\\t\\t\\t\\t\\tOctober 13, 2018\\t\\t\\t\\t\\t   \n288      \\t\\t\\t\\t\\t\\t\\t\\t\\t\\tJanuary 2, 2018\\t\\t\\t\\t\\t   \n147         \\t\\t\\t\\t\\t\\t\\t\\t\\t\\tJuly 7, 2019\\t\\t\\t\\t\\t   \n\n                                                 title  \\\n253    EDDIE IZZARD: STRIPPED (2009) – Full Transcript   \n330      John Mulaney: New In Town (2012) – Transcript   \n214   JIM GAFFIGAN: NOBLE APE (2018) – Full Transcript   \n212  Iliza Shlesinger: Confirmed Kills (2016) – Ful...   \n395  RICHARD PRYOR: LIVE ON THE SUNSET STRIP (1982)...   \n90   PATTON OSWALT: I LOVE EVERYTHING (2020) – FULL...   \n134  Mark Normand Stand-Up – The Tonight Show Starr...   \n192  Comedy Central Presents: Tom Segura [S15e01] –...   \n288  RUSSELL HOWARD: RECALIBRATE (2017) – Full Tran...   \n147  Ralphie May: Filthy Animal Tour (2014) – Trans...   \n\n                                                  text  \n253  (AUDIENCE CHEERING) London! London! London. Lo...  \n330  [funky 90’s beat and cityscape pan] [singing] ...  \n214  BOY: That’s Mom and Dad. [hip-hop music] MAN: ...  \n212  Chicago, are you ready? Party goblins, are you...  \n395  Recorded at the Circle Star Theater in San Car...  \n90   This is the full transcript of Patton Oswalt: ...  \n134  Hey, hey. All right. Thanks. Sorry. A little s...  \n192  Yes. I agree. I totally agree. Totally. It’s g...  \n288  Ladies and gentlemen, please welcome to the st...  \n147  Ralphie May hosts his legendary Filthy Animals...  ",
      "text/html": "<div>\n<style scoped>\n    .dataframe tbody tr th:only-of-type {\n        vertical-align: middle;\n    }\n\n    .dataframe tbody tr th {\n        vertical-align: top;\n    }\n\n    .dataframe thead th {\n        text-align: right;\n    }\n</style>\n<table border=\"1\" class=\"dataframe\">\n  <thead>\n    <tr style=\"text-align: right;\">\n      <th></th>\n      <th>link</th>\n      <th>unique_id</th>\n      <th>date</th>\n      <th>title</th>\n      <th>text</th>\n    </tr>\n  </thead>\n  <tbody>\n    <tr>\n      <th>253</th>\n      <td>https://scrapsfromtheloft.com/comedy/eddie-izz...</td>\n      <td>eddie-izzard-stripped-2009-full-transcript</td>\n      <td>\\t\\t\\t\\t\\t\\t\\t\\t\\t\\tFebruary 8, 2018\\t\\t\\t\\t\\t</td>\n      <td>EDDIE IZZARD: STRIPPED (2009) – Full Transcript</td>\n      <td>(AUDIENCE CHEERING) London! London! London. Lo...</td>\n    </tr>\n    <tr>\n      <th>330</th>\n      <td>https://scrapsfromtheloft.com/comedy/john-mula...</td>\n      <td>john-mulaney-new-in-town-2012-full-transcript</td>\n      <td>\\t\\t\\t\\t\\t\\t\\t\\t\\t\\tSeptember 25, 2017\\t\\t\\t\\t\\t</td>\n      <td>John Mulaney: New In Town (2012) – Transcript</td>\n      <td>[funky 90’s beat and cityscape pan] [singing] ...</td>\n    </tr>\n    <tr>\n      <th>214</th>\n      <td>https://scrapsfromtheloft.com/comedy/jim-gaffi...</td>\n      <td>jim-gaffigan-noble-ape-full-transcript</td>\n      <td>\\t\\t\\t\\t\\t\\t\\t\\t\\t\\tJuly 26, 2018\\t\\t\\t\\t\\t</td>\n      <td>JIM GAFFIGAN: NOBLE APE (2018) – Full Transcript</td>\n      <td>BOY: That’s Mom and Dad. [hip-hop music] MAN: ...</td>\n    </tr>\n    <tr>\n      <th>212</th>\n      <td>https://scrapsfromtheloft.com/comedy/iliza-shl...</td>\n      <td>iliza-shlesinger-confirmed-kills-transcript</td>\n      <td>\\t\\t\\t\\t\\t\\t\\t\\t\\t\\tJuly 31, 2018\\t\\t\\t\\t\\t</td>\n      <td>Iliza Shlesinger: Confirmed Kills (2016) – Ful...</td>\n      <td>Chicago, are you ready? Party goblins, are you...</td>\n    </tr>\n    <tr>\n      <th>395</th>\n      <td>https://scrapsfromtheloft.com/comedy/richard-p...</td>\n      <td>richard-pryor-live-sunset-strip-1982-full-tran...</td>\n      <td>\\t\\t\\t\\t\\t\\t\\t\\t\\t\\tApril 26, 2017\\t\\t\\t\\t\\t</td>\n      <td>RICHARD PRYOR: LIVE ON THE SUNSET STRIP (1982)...</td>\n      <td>Recorded at the Circle Star Theater in San Car...</td>\n    </tr>\n    <tr>\n      <th>90</th>\n      <td>https://scrapsfromtheloft.com/comedy/patton-os...</td>\n      <td>patton-oswalt-i-love-everything-transcript</td>\n      <td>\\t\\t\\t\\t\\t\\t\\t\\t\\t\\tMay 20, 2020\\t\\t\\t\\t\\t</td>\n      <td>PATTON OSWALT: I LOVE EVERYTHING (2020) – FULL...</td>\n      <td>This is the full transcript of Patton Oswalt: ...</td>\n    </tr>\n    <tr>\n      <th>134</th>\n      <td>https://scrapsfromtheloft.com/comedy/mark-norm...</td>\n      <td>mark-normand-stand-up-tonight-show-starring-ji...</td>\n      <td>\\t\\t\\t\\t\\t\\t\\t\\t\\t\\tSeptember 21, 2019\\t\\t\\t\\t\\t</td>\n      <td>Mark Normand Stand-Up – The Tonight Show Starr...</td>\n      <td>Hey, hey. All right. Thanks. Sorry. A little s...</td>\n    </tr>\n    <tr>\n      <th>192</th>\n      <td>https://scrapsfromtheloft.com/comedy/comedy-ce...</td>\n      <td>comedy-central-presents-tom-segura-s15e01-tran...</td>\n      <td>\\t\\t\\t\\t\\t\\t\\t\\t\\t\\tOctober 13, 2018\\t\\t\\t\\t\\t</td>\n      <td>Comedy Central Presents: Tom Segura [S15e01] –...</td>\n      <td>Yes. I agree. I totally agree. Totally. It’s g...</td>\n    </tr>\n    <tr>\n      <th>288</th>\n      <td>https://scrapsfromtheloft.com/comedy/russell-h...</td>\n      <td>russell-howard-recalibrate-2017-full-transcript</td>\n      <td>\\t\\t\\t\\t\\t\\t\\t\\t\\t\\tJanuary 2, 2018\\t\\t\\t\\t\\t</td>\n      <td>RUSSELL HOWARD: RECALIBRATE (2017) – Full Tran...</td>\n      <td>Ladies and gentlemen, please welcome to the st...</td>\n    </tr>\n    <tr>\n      <th>147</th>\n      <td>https://scrapsfromtheloft.com/comedy/ralphie-m...</td>\n      <td>ralphie-may-filthy-animal-tour-transcript</td>\n      <td>\\t\\t\\t\\t\\t\\t\\t\\t\\t\\tJuly 7, 2019\\t\\t\\t\\t\\t</td>\n      <td>Ralphie May: Filthy Animal Tour (2014) – Trans...</td>\n      <td>Ralphie May hosts his legendary Filthy Animals...</td>\n    </tr>\n  </tbody>\n</table>\n</div>"
     },
     "execution_count": 47,
     "metadata": {},
     "output_type": "execute_result"
    }
   ],
   "source": [
    "# checking 10 random rows\n",
    "comedy.sample(10, replace=False)"
   ],
   "metadata": {
    "collapsed": false,
    "ExecuteTime": {
     "start_time": "2023-04-23T15:17:18.176424Z",
     "end_time": "2023-04-23T15:17:18.178404Z"
    }
   }
  },
  {
   "cell_type": "code",
   "execution_count": 48,
   "outputs": [
    {
     "data": {
      "text/plain": "count      416.000000\nmean     43809.841346\nstd      17850.147821\nmin       2584.000000\n25%      37267.750000\n50%      46336.000000\n75%      55466.250000\nmax      92222.000000\nName: text, dtype: float64"
     },
     "execution_count": 48,
     "metadata": {},
     "output_type": "execute_result"
    }
   ],
   "source": [
    "# checking sum stats for the lengths of the text columns--a small minimum would indicate at least one instance of a failed scrape\n",
    "comedy['text'].str.len().describe() # looks good--smallest length is 2584"
   ],
   "metadata": {
    "collapsed": false,
    "ExecuteTime": {
     "start_time": "2023-04-23T15:17:18.180774Z",
     "end_time": "2023-04-23T15:17:18.182732Z"
    }
   }
  },
  {
   "cell_type": "code",
   "execution_count": 49,
   "outputs": [
    {
     "name": "stderr",
     "output_type": "stream",
     "text": [
      "/var/folders/hr/r030s1ps2h10bm8_k582nzfc0000gn/T/ipykernel_21018/1166485829.py:3: FutureWarning: The default value of regex will change from True to False in a future version.\n",
      "  comedy['text'] = comedy['text'].str.replace(r'\\[.*?\\]', '')\n"
     ]
    }
   ],
   "source": [
    "# removing text between brackets as this was added on the site to document crowd reactions\n",
    "# ex: [Audience Applause] or [Audience Laughs Loudly]\n",
    "comedy['text'] = comedy['text'].str.replace(r'\\[.*?\\]', '')"
   ],
   "metadata": {
    "collapsed": false,
    "ExecuteTime": {
     "start_time": "2023-04-23T15:17:18.208735Z",
     "end_time": "2023-04-23T15:17:18.227499Z"
    }
   }
  },
  {
   "cell_type": "code",
   "execution_count": 50,
   "outputs": [
    {
     "data": {
      "text/plain": "count      416.000000\nmean     42849.264423\nstd      17599.456433\nmin       2572.000000\n25%      35948.750000\n50%      45251.500000\n75%      53690.500000\nmax      91585.000000\nName: text, dtype: float64"
     },
     "execution_count": 50,
     "metadata": {},
     "output_type": "execute_result"
    }
   ],
   "source": [
    "# checking the sum stats for the lengths of the text columns after removing the bracketed text\n",
    "comedy['text'].str.len().describe() # clearly that bracketed text was common--the mean text length decreased significantly"
   ],
   "metadata": {
    "collapsed": false,
    "ExecuteTime": {
     "start_time": "2023-04-23T15:17:18.213260Z",
     "end_time": "2023-04-23T15:17:18.227669Z"
    }
   }
  },
  {
   "cell_type": "code",
   "execution_count": 51,
   "outputs": [
    {
     "data": {
      "text/plain": "87     2016\n47     2013\n3      2020\n290    2016\n301    2014\n172    2016\n12     2022\n96     2011\n53      NaN\n326    2007\n180    2012\n271    1993\n391    2011\n363    2016\n338    1983\n226    2009\n227    2018\n404    2008\n384    2000\n364    2012\nName: year, dtype: object"
     },
     "execution_count": 51,
     "metadata": {},
     "output_type": "execute_result"
    }
   ],
   "source": [
    "# creating a new column, year, by extracting the year from the title column\n",
    "comedy['year'] = comedy['title'].str.extract(r'(\\d{4})') # regular expression pattern matching 4 consecutive instances of digits [0-9]\n",
    "comedy['year'].sample(20, replace=False) # looks good"
   ],
   "metadata": {
    "collapsed": false,
    "ExecuteTime": {
     "start_time": "2023-04-23T15:17:18.217882Z",
     "end_time": "2023-04-23T15:17:18.227751Z"
    }
   }
  },
  {
   "cell_type": "code",
   "execution_count": 52,
   "outputs": [
    {
     "name": "stdout",
     "output_type": "stream",
     "text": [
      "5.29% of rows do not have an entry in the year column\n"
     ]
    }
   ],
   "source": [
    "# checking how many rows have a missing `year` from the total\n",
    "pct_missing_year = round(comedy['year'].isnull().sum()/len(comedy), 4) * 100\n",
    "print(f\"{pct_missing_year}% of rows do not have an entry in the year column\")"
   ],
   "metadata": {
    "collapsed": false,
    "ExecuteTime": {
     "start_time": "2023-04-23T15:17:18.220906Z",
     "end_time": "2023-04-23T15:17:18.241105Z"
    }
   }
  },
  {
   "cell_type": "code",
   "execution_count": 53,
   "outputs": [
    {
     "data": {
      "text/plain": "                                                  link  \\\n44   https://scrapsfromtheloft.com/comedy/dave-chap...   \n53   https://scrapsfromtheloft.com/comedy/george-ca...   \n55   https://scrapsfromtheloft.com/comedy/chris-roc...   \n77   https://scrapsfromtheloft.com/comedy/bill-hick...   \n83   https://scrapsfromtheloft.com/comedy/doug-stan...   \n103  https://scrapsfromtheloft.com/comedy/dave-alle...   \n106  https://scrapsfromtheloft.com/comedy/george-ca...   \n109  https://scrapsfromtheloft.com/comedy/bert-krei...   \n137  https://scrapsfromtheloft.com/comedy/dave-chap...   \n138  https://scrapsfromtheloft.com/comedy/brazil-co...   \n142  https://scrapsfromtheloft.com/comedy/kevin-har...   \n145  https://scrapsfromtheloft.com/comedy/tom-segur...   \n154  https://scrapsfromtheloft.com/comedy/doug-stan...   \n192  https://scrapsfromtheloft.com/comedy/comedy-ce...   \n198  https://scrapsfromtheloft.com/comedy/louis-ck-...   \n199  https://scrapsfromtheloft.com/comedy/louis-c-k...   \n232  https://scrapsfromtheloft.com/comedy/doug-stan...   \n314  https://scrapsfromtheloft.com/comedy/george-ca...   \n323  https://scrapsfromtheloft.com/comedy/george-ca...   \n325  https://scrapsfromtheloft.com/comedy/jim-jeffe...   \n396  https://scrapsfromtheloft.com/comedy/george-ca...   \n412  https://scrapsfromtheloft.com/comedy/jim-jeffe...   \n\n                                             unique_id  \\\n44                       dave-chappelle-846-transcript   \n53          george-carlin-politically-correct-language   \n55   chris-rock-total-blackout-the-tamborine-extend...   \n77      bill-hicks-censored-david-letterman-transcript   \n83       doug-stanhope-fear-of-an-empty-bed-transcript   \n103          dave-allen-first-day-at-school-transcript   \n106     george-carlin-indian-drill-sergeant-transcript   \n109          bert-kreischer-fighting-a-bear-transcript   \n137  dave-chappelle-sticks-stones-epilogue-punchlin...   \n138              brazil-corruption-amazon-hasan-minhaj   \n142              kevin-hart-gun-compartment-transcript   \n145  tom-segura-overdoses-this-is-not-happening-tra...   \n154                  doug-stanhope-babies-and-abortion   \n192  comedy-central-presents-tom-segura-s15e01-tran...   \n198      louis-ck-snl-monologue-s38e06-2012-transcript   \n199  louis-c-k-snl-monologue-march-29-2014-full-tra...   \n232                       doug-stanhope-on-nationalism   \n314  george-carlin-pro-life-abortion-and-the-sancti...   \n323                 george-carlin-religion-is-bullshit   \n325  jim-jefferies-e-il-controllo-della-armi-in-ame...   \n396  george-carlin-seven-words-you-can-never-say-on...   \n412          jim-jefferies-gun-control-full-transcript   \n\n                                                 date  \\\n44       \\t\\t\\t\\t\\t\\t\\t\\t\\t\\tAugust 5, 2021\\t\\t\\t\\t\\t   \n53    \\t\\t\\t\\t\\t\\t\\t\\t\\t\\tFebruary 18, 2021\\t\\t\\t\\t\\t   \n55     \\t\\t\\t\\t\\t\\t\\t\\t\\t\\tJanuary 15, 2021\\t\\t\\t\\t\\t   \n77         \\t\\t\\t\\t\\t\\t\\t\\t\\t\\tJuly 5, 2020\\t\\t\\t\\t\\t   \n83         \\t\\t\\t\\t\\t\\t\\t\\t\\t\\tJune 9, 2020\\t\\t\\t\\t\\t   \n103      \\t\\t\\t\\t\\t\\t\\t\\t\\t\\tApril 30, 2020\\t\\t\\t\\t\\t   \n106      \\t\\t\\t\\t\\t\\t\\t\\t\\t\\tApril 13, 2020\\t\\t\\t\\t\\t   \n109      \\t\\t\\t\\t\\t\\t\\t\\t\\t\\tMarch 21, 2020\\t\\t\\t\\t\\t   \n137     \\t\\t\\t\\t\\t\\t\\t\\t\\t\\tAugust 29, 2019\\t\\t\\t\\t\\t   \n138     \\t\\t\\t\\t\\t\\t\\t\\t\\t\\tAugust 26, 2019\\t\\t\\t\\t\\t   \n142      \\t\\t\\t\\t\\t\\t\\t\\t\\t\\tAugust 8, 2019\\t\\t\\t\\t\\t   \n145       \\t\\t\\t\\t\\t\\t\\t\\t\\t\\tJuly 14, 2019\\t\\t\\t\\t\\t   \n154        \\t\\t\\t\\t\\t\\t\\t\\t\\t\\tMay 18, 2019\\t\\t\\t\\t\\t   \n192    \\t\\t\\t\\t\\t\\t\\t\\t\\t\\tOctober 13, 2018\\t\\t\\t\\t\\t   \n198     \\t\\t\\t\\t\\t\\t\\t\\t\\t\\tOctober 2, 2018\\t\\t\\t\\t\\t   \n199     \\t\\t\\t\\t\\t\\t\\t\\t\\t\\tOctober 2, 2018\\t\\t\\t\\t\\t   \n232        \\t\\t\\t\\t\\t\\t\\t\\t\\t\\tMay 16, 2018\\t\\t\\t\\t\\t   \n314    \\t\\t\\t\\t\\t\\t\\t\\t\\t\\tOctober 25, 2017\\t\\t\\t\\t\\t   \n323     \\t\\t\\t\\t\\t\\t\\t\\t\\t\\tOctober 3, 2017\\t\\t\\t\\t\\t   \n325     \\t\\t\\t\\t\\t\\t\\t\\t\\t\\tOctober 2, 2017\\t\\t\\t\\t\\t   \n396      \\t\\t\\t\\t\\t\\t\\t\\t\\t\\tApril 26, 2017\\t\\t\\t\\t\\t   \n412       \\t\\t\\t\\t\\t\\t\\t\\t\\t\\tApril 1, 2017\\t\\t\\t\\t\\t   \n\n                                                 title  \\\n44                   Dave Chappelle: 8:46 – Transcript   \n53         George Carlin: Politically Correct Language   \n55   Chris Rock Total Blackout: The Tamborine Exten...   \n77   BILL HICKS: THE CENSORED SEVEN MINUTES ON LATE...   \n83    DOUG STANHOPE: FEAR OF AN EMPTY BED [TRANSCRIPT]   \n103  DAVE ALLEN: FIRST DAY AT CATHOLIC SCHOOL [TRAN...   \n106  George Carlin: The Indian Drill Sergeant – Tra...   \n109       Bert Kreischer: Fighting A Bear [Transcript]   \n137  Dave Chappelle: Sticks & Stones | Epilogue: Th...   \n138  Brazil, Corruption and the Amazon Rainforest |...   \n142           Kevin Hart: Gun Compartment [Transcript]   \n145  Tom Segura Overdoses – This Is Not Happening [...   \n154               Doug Stanhope on babies and abortion   \n192  Comedy Central Presents: Tom Segura [S15e01] –...   \n198  Louis C.K.: SNL Monologue S38E06 [11/03/12] – ...   \n199  Louis C.K.: SNL Monologue S39E16 [03/29/14] – ...   \n232                       DOUG STANHOPE ON NATIONALISM   \n314         GEORGE CARLIN ON ABORTION AND “PRO-LIFERS”   \n323   GEORGE CARLIN: RELIGION IS BULLSHIT [TRANSCRIPT]   \n325  JIM JEFFERIES E IL CONTROLLO DELLE ARMI IN AME...   \n396  George Carlin: Seven Words You Can Never Say o...   \n412     Jim Jefferies on Gun Control [Full Transcript]   \n\n                                                  text year  \n44   8:46 is a performance special by comedian Dave...  NaN  \n53   I know I’m a little late with this, but I’d li...  NaN  \n55    Were you at the, uh, White House party?  Yes,...  NaN  \n77   On October 1, 1993, Hicks was scheduled to app...  NaN  \n83   Comedy Central, Oct 4, 2016 After a bad breaku...  NaN  \n103  Dave Allen on his first day at Catholic school...  NaN  \n106  In 1965 “The Indian Sergeant,” was emerging as...  NaN  \n109  The machine, Mr. Bert Kreischer, everybody. Le...  NaN  \n137  Tacked onto the end of the Dave Chappelle’s St...  NaN  \n138  On this episode of Patriot Act, Hasan breaks d...  NaN  \n142  Kevin Hart acts out fantasy scenarios of drawi...  NaN  \n145  This woman goes “Hey Tom, you are in the emerg...  NaN  \n154  Immigration. There’s too many people in this f...  NaN  \n192  Yes. I agree. I totally agree. Totally. It’s g...  NaN  \n198  Announcer: Ladies and gentlemen — Louis C.K.! ...  NaN  \n199  Saturday Night Live  Season 39: Episode 16 Ann...  NaN  \n232  From No Refunds, recorded at the Gotham Comedy...  NaN  \n314  George Carlin on the 1996 HBO special “Back in...  NaN  \n323  When it comes to bullshit, big-time, major lea...  NaN  \n325  Il comico australiano Jim Jefferies ridicolizz...  NaN  \n396  The original version of George Carlin’s classi...  NaN  \n412  by Jim Jefferies I’m gonna talk about somethin...  NaN  ",
      "text/html": "<div>\n<style scoped>\n    .dataframe tbody tr th:only-of-type {\n        vertical-align: middle;\n    }\n\n    .dataframe tbody tr th {\n        vertical-align: top;\n    }\n\n    .dataframe thead th {\n        text-align: right;\n    }\n</style>\n<table border=\"1\" class=\"dataframe\">\n  <thead>\n    <tr style=\"text-align: right;\">\n      <th></th>\n      <th>link</th>\n      <th>unique_id</th>\n      <th>date</th>\n      <th>title</th>\n      <th>text</th>\n      <th>year</th>\n    </tr>\n  </thead>\n  <tbody>\n    <tr>\n      <th>44</th>\n      <td>https://scrapsfromtheloft.com/comedy/dave-chap...</td>\n      <td>dave-chappelle-846-transcript</td>\n      <td>\\t\\t\\t\\t\\t\\t\\t\\t\\t\\tAugust 5, 2021\\t\\t\\t\\t\\t</td>\n      <td>Dave Chappelle: 8:46 – Transcript</td>\n      <td>8:46 is a performance special by comedian Dave...</td>\n      <td>NaN</td>\n    </tr>\n    <tr>\n      <th>53</th>\n      <td>https://scrapsfromtheloft.com/comedy/george-ca...</td>\n      <td>george-carlin-politically-correct-language</td>\n      <td>\\t\\t\\t\\t\\t\\t\\t\\t\\t\\tFebruary 18, 2021\\t\\t\\t\\t\\t</td>\n      <td>George Carlin: Politically Correct Language</td>\n      <td>I know I’m a little late with this, but I’d li...</td>\n      <td>NaN</td>\n    </tr>\n    <tr>\n      <th>55</th>\n      <td>https://scrapsfromtheloft.com/comedy/chris-roc...</td>\n      <td>chris-rock-total-blackout-the-tamborine-extend...</td>\n      <td>\\t\\t\\t\\t\\t\\t\\t\\t\\t\\tJanuary 15, 2021\\t\\t\\t\\t\\t</td>\n      <td>Chris Rock Total Blackout: The Tamborine Exten...</td>\n      <td>Were you at the, uh, White House party?  Yes,...</td>\n      <td>NaN</td>\n    </tr>\n    <tr>\n      <th>77</th>\n      <td>https://scrapsfromtheloft.com/comedy/bill-hick...</td>\n      <td>bill-hicks-censored-david-letterman-transcript</td>\n      <td>\\t\\t\\t\\t\\t\\t\\t\\t\\t\\tJuly 5, 2020\\t\\t\\t\\t\\t</td>\n      <td>BILL HICKS: THE CENSORED SEVEN MINUTES ON LATE...</td>\n      <td>On October 1, 1993, Hicks was scheduled to app...</td>\n      <td>NaN</td>\n    </tr>\n    <tr>\n      <th>83</th>\n      <td>https://scrapsfromtheloft.com/comedy/doug-stan...</td>\n      <td>doug-stanhope-fear-of-an-empty-bed-transcript</td>\n      <td>\\t\\t\\t\\t\\t\\t\\t\\t\\t\\tJune 9, 2020\\t\\t\\t\\t\\t</td>\n      <td>DOUG STANHOPE: FEAR OF AN EMPTY BED [TRANSCRIPT]</td>\n      <td>Comedy Central, Oct 4, 2016 After a bad breaku...</td>\n      <td>NaN</td>\n    </tr>\n    <tr>\n      <th>103</th>\n      <td>https://scrapsfromtheloft.com/comedy/dave-alle...</td>\n      <td>dave-allen-first-day-at-school-transcript</td>\n      <td>\\t\\t\\t\\t\\t\\t\\t\\t\\t\\tApril 30, 2020\\t\\t\\t\\t\\t</td>\n      <td>DAVE ALLEN: FIRST DAY AT CATHOLIC SCHOOL [TRAN...</td>\n      <td>Dave Allen on his first day at Catholic school...</td>\n      <td>NaN</td>\n    </tr>\n    <tr>\n      <th>106</th>\n      <td>https://scrapsfromtheloft.com/comedy/george-ca...</td>\n      <td>george-carlin-indian-drill-sergeant-transcript</td>\n      <td>\\t\\t\\t\\t\\t\\t\\t\\t\\t\\tApril 13, 2020\\t\\t\\t\\t\\t</td>\n      <td>George Carlin: The Indian Drill Sergeant – Tra...</td>\n      <td>In 1965 “The Indian Sergeant,” was emerging as...</td>\n      <td>NaN</td>\n    </tr>\n    <tr>\n      <th>109</th>\n      <td>https://scrapsfromtheloft.com/comedy/bert-krei...</td>\n      <td>bert-kreischer-fighting-a-bear-transcript</td>\n      <td>\\t\\t\\t\\t\\t\\t\\t\\t\\t\\tMarch 21, 2020\\t\\t\\t\\t\\t</td>\n      <td>Bert Kreischer: Fighting A Bear [Transcript]</td>\n      <td>The machine, Mr. Bert Kreischer, everybody. Le...</td>\n      <td>NaN</td>\n    </tr>\n    <tr>\n      <th>137</th>\n      <td>https://scrapsfromtheloft.com/comedy/dave-chap...</td>\n      <td>dave-chappelle-sticks-stones-epilogue-punchlin...</td>\n      <td>\\t\\t\\t\\t\\t\\t\\t\\t\\t\\tAugust 29, 2019\\t\\t\\t\\t\\t</td>\n      <td>Dave Chappelle: Sticks &amp; Stones | Epilogue: Th...</td>\n      <td>Tacked onto the end of the Dave Chappelle’s St...</td>\n      <td>NaN</td>\n    </tr>\n    <tr>\n      <th>138</th>\n      <td>https://scrapsfromtheloft.com/comedy/brazil-co...</td>\n      <td>brazil-corruption-amazon-hasan-minhaj</td>\n      <td>\\t\\t\\t\\t\\t\\t\\t\\t\\t\\tAugust 26, 2019\\t\\t\\t\\t\\t</td>\n      <td>Brazil, Corruption and the Amazon Rainforest |...</td>\n      <td>On this episode of Patriot Act, Hasan breaks d...</td>\n      <td>NaN</td>\n    </tr>\n    <tr>\n      <th>142</th>\n      <td>https://scrapsfromtheloft.com/comedy/kevin-har...</td>\n      <td>kevin-hart-gun-compartment-transcript</td>\n      <td>\\t\\t\\t\\t\\t\\t\\t\\t\\t\\tAugust 8, 2019\\t\\t\\t\\t\\t</td>\n      <td>Kevin Hart: Gun Compartment [Transcript]</td>\n      <td>Kevin Hart acts out fantasy scenarios of drawi...</td>\n      <td>NaN</td>\n    </tr>\n    <tr>\n      <th>145</th>\n      <td>https://scrapsfromtheloft.com/comedy/tom-segur...</td>\n      <td>tom-segura-overdoses-this-is-not-happening-tra...</td>\n      <td>\\t\\t\\t\\t\\t\\t\\t\\t\\t\\tJuly 14, 2019\\t\\t\\t\\t\\t</td>\n      <td>Tom Segura Overdoses – This Is Not Happening [...</td>\n      <td>This woman goes “Hey Tom, you are in the emerg...</td>\n      <td>NaN</td>\n    </tr>\n    <tr>\n      <th>154</th>\n      <td>https://scrapsfromtheloft.com/comedy/doug-stan...</td>\n      <td>doug-stanhope-babies-and-abortion</td>\n      <td>\\t\\t\\t\\t\\t\\t\\t\\t\\t\\tMay 18, 2019\\t\\t\\t\\t\\t</td>\n      <td>Doug Stanhope on babies and abortion</td>\n      <td>Immigration. There’s too many people in this f...</td>\n      <td>NaN</td>\n    </tr>\n    <tr>\n      <th>192</th>\n      <td>https://scrapsfromtheloft.com/comedy/comedy-ce...</td>\n      <td>comedy-central-presents-tom-segura-s15e01-tran...</td>\n      <td>\\t\\t\\t\\t\\t\\t\\t\\t\\t\\tOctober 13, 2018\\t\\t\\t\\t\\t</td>\n      <td>Comedy Central Presents: Tom Segura [S15e01] –...</td>\n      <td>Yes. I agree. I totally agree. Totally. It’s g...</td>\n      <td>NaN</td>\n    </tr>\n    <tr>\n      <th>198</th>\n      <td>https://scrapsfromtheloft.com/comedy/louis-ck-...</td>\n      <td>louis-ck-snl-monologue-s38e06-2012-transcript</td>\n      <td>\\t\\t\\t\\t\\t\\t\\t\\t\\t\\tOctober 2, 2018\\t\\t\\t\\t\\t</td>\n      <td>Louis C.K.: SNL Monologue S38E06 [11/03/12] – ...</td>\n      <td>Announcer: Ladies and gentlemen — Louis C.K.! ...</td>\n      <td>NaN</td>\n    </tr>\n    <tr>\n      <th>199</th>\n      <td>https://scrapsfromtheloft.com/comedy/louis-c-k...</td>\n      <td>louis-c-k-snl-monologue-march-29-2014-full-tra...</td>\n      <td>\\t\\t\\t\\t\\t\\t\\t\\t\\t\\tOctober 2, 2018\\t\\t\\t\\t\\t</td>\n      <td>Louis C.K.: SNL Monologue S39E16 [03/29/14] – ...</td>\n      <td>Saturday Night Live  Season 39: Episode 16 Ann...</td>\n      <td>NaN</td>\n    </tr>\n    <tr>\n      <th>232</th>\n      <td>https://scrapsfromtheloft.com/comedy/doug-stan...</td>\n      <td>doug-stanhope-on-nationalism</td>\n      <td>\\t\\t\\t\\t\\t\\t\\t\\t\\t\\tMay 16, 2018\\t\\t\\t\\t\\t</td>\n      <td>DOUG STANHOPE ON NATIONALISM</td>\n      <td>From No Refunds, recorded at the Gotham Comedy...</td>\n      <td>NaN</td>\n    </tr>\n    <tr>\n      <th>314</th>\n      <td>https://scrapsfromtheloft.com/comedy/george-ca...</td>\n      <td>george-carlin-pro-life-abortion-and-the-sancti...</td>\n      <td>\\t\\t\\t\\t\\t\\t\\t\\t\\t\\tOctober 25, 2017\\t\\t\\t\\t\\t</td>\n      <td>GEORGE CARLIN ON ABORTION AND “PRO-LIFERS”</td>\n      <td>George Carlin on the 1996 HBO special “Back in...</td>\n      <td>NaN</td>\n    </tr>\n    <tr>\n      <th>323</th>\n      <td>https://scrapsfromtheloft.com/comedy/george-ca...</td>\n      <td>george-carlin-religion-is-bullshit</td>\n      <td>\\t\\t\\t\\t\\t\\t\\t\\t\\t\\tOctober 3, 2017\\t\\t\\t\\t\\t</td>\n      <td>GEORGE CARLIN: RELIGION IS BULLSHIT [TRANSCRIPT]</td>\n      <td>When it comes to bullshit, big-time, major lea...</td>\n      <td>NaN</td>\n    </tr>\n    <tr>\n      <th>325</th>\n      <td>https://scrapsfromtheloft.com/comedy/jim-jeffe...</td>\n      <td>jim-jefferies-e-il-controllo-della-armi-in-ame...</td>\n      <td>\\t\\t\\t\\t\\t\\t\\t\\t\\t\\tOctober 2, 2017\\t\\t\\t\\t\\t</td>\n      <td>JIM JEFFERIES E IL CONTROLLO DELLE ARMI IN AME...</td>\n      <td>Il comico australiano Jim Jefferies ridicolizz...</td>\n      <td>NaN</td>\n    </tr>\n    <tr>\n      <th>396</th>\n      <td>https://scrapsfromtheloft.com/comedy/george-ca...</td>\n      <td>george-carlin-seven-words-you-can-never-say-on...</td>\n      <td>\\t\\t\\t\\t\\t\\t\\t\\t\\t\\tApril 26, 2017\\t\\t\\t\\t\\t</td>\n      <td>George Carlin: Seven Words You Can Never Say o...</td>\n      <td>The original version of George Carlin’s classi...</td>\n      <td>NaN</td>\n    </tr>\n    <tr>\n      <th>412</th>\n      <td>https://scrapsfromtheloft.com/comedy/jim-jeffe...</td>\n      <td>jim-jefferies-gun-control-full-transcript</td>\n      <td>\\t\\t\\t\\t\\t\\t\\t\\t\\t\\tApril 1, 2017\\t\\t\\t\\t\\t</td>\n      <td>Jim Jefferies on Gun Control [Full Transcript]</td>\n      <td>by Jim Jefferies I’m gonna talk about somethin...</td>\n      <td>NaN</td>\n    </tr>\n  </tbody>\n</table>\n</div>"
     },
     "execution_count": 53,
     "metadata": {},
     "output_type": "execute_result"
    }
   ],
   "source": [
    "# checking the rows with missing year values\n",
    "comedy[comedy[\"year\"].isna()]"
   ],
   "metadata": {
    "collapsed": false,
    "ExecuteTime": {
     "start_time": "2023-04-23T15:17:18.223809Z",
     "end_time": "2023-04-23T15:17:18.241584Z"
    }
   }
  },
  {
   "cell_type": "code",
   "execution_count": 54,
   "outputs": [],
   "source": [
    "# copying the comedy dataframe to a new dataframe\n",
    "comedy_original = comedy.copy()"
   ],
   "metadata": {
    "collapsed": false,
    "ExecuteTime": {
     "start_time": "2023-04-23T15:17:18.230305Z",
     "end_time": "2023-04-23T15:17:18.241842Z"
    }
   }
  },
  {
   "cell_type": "code",
   "execution_count": 55,
   "outputs": [],
   "source": [
    "# dropping rows with missing year\n",
    "comedy = comedy_original.dropna(subset=['year'])"
   ],
   "metadata": {
    "collapsed": false,
    "ExecuteTime": {
     "start_time": "2023-04-23T15:17:18.233980Z",
     "end_time": "2023-04-23T15:17:18.241929Z"
    }
   }
  },
  {
   "cell_type": "code",
   "execution_count": 56,
   "outputs": [
    {
     "name": "stderr",
     "output_type": "stream",
     "text": [
      "/var/folders/hr/r030s1ps2h10bm8_k582nzfc0000gn/T/ipykernel_21018/565625029.py:2: SettingWithCopyWarning: \n",
      "A value is trying to be set on a copy of a slice from a DataFrame.\n",
      "Try using .loc[row_indexer,col_indexer] = value instead\n",
      "\n",
      "See the caveats in the documentation: https://pandas.pydata.org/pandas-docs/stable/user_guide/indexing.html#returning-a-view-versus-a-copy\n",
      "  comedy['year'] = pd.to_numeric(comedy['year'])\n"
     ]
    }
   ],
   "source": [
    "# converting the year column to numeric\n",
    "comedy['year'] = pd.to_numeric(comedy['year'])"
   ],
   "metadata": {
    "collapsed": false,
    "ExecuteTime": {
     "start_time": "2023-04-23T15:17:18.237105Z",
     "end_time": "2023-04-23T15:17:18.242035Z"
    }
   }
  },
  {
   "cell_type": "code",
   "execution_count": 57,
   "outputs": [
    {
     "data": {
      "text/plain": "count     394.000000\nmean     2012.898477\nstd         9.924132\nmin      1963.000000\n25%      2011.000000\n50%      2016.000000\n75%      2019.000000\nmax      2023.000000\nName: year, dtype: float64"
     },
     "execution_count": 57,
     "metadata": {},
     "output_type": "execute_result"
    }
   ],
   "source": [
    "# checking the 5 num sum of the year column\n",
    "comedy['year'].describe()"
   ],
   "metadata": {
    "collapsed": false,
    "ExecuteTime": {
     "start_time": "2023-04-23T15:17:18.241957Z",
     "end_time": "2023-04-23T15:17:18.246105Z"
    }
   }
  },
  {
   "cell_type": "code",
   "execution_count": 58,
   "outputs": [
    {
     "data": {
      "text/plain": "<Axes: >"
     },
     "execution_count": 58,
     "metadata": {},
     "output_type": "execute_result"
    },
    {
     "data": {
      "text/plain": "<Figure size 640x480 with 1 Axes>",
      "image/png": "[encoded data removed]"
     },
     "metadata": {},
     "output_type": "display_data"
    }
   ],
   "source": [
    "# checking the distribution of the year column\n",
    "comedy['year'].hist(grid=False) # the data is heavily skewed to the right, most of the transcripts are from the 2010s and on"
   ],
   "metadata": {
    "collapsed": false,
    "ExecuteTime": {
     "start_time": "2023-04-23T15:17:18.246012Z",
     "end_time": "2023-04-23T15:17:18.344630Z"
    }
   }
  },
  {
   "cell_type": "code",
   "execution_count": 59,
   "outputs": [
    {
     "data": {
      "text/plain": "Index(['link', 'unique_id', 'date', 'title', 'text', 'year'], dtype='object')"
     },
     "execution_count": 59,
     "metadata": {},
     "output_type": "execute_result"
    }
   ],
   "source": [
    "comedy.columns"
   ],
   "metadata": {
    "collapsed": false,
    "ExecuteTime": {
     "start_time": "2023-04-23T15:17:18.313943Z",
     "end_time": "2023-04-23T15:17:18.344775Z"
    }
   }
  },
  {
   "cell_type": "code",
   "execution_count": 60,
   "outputs": [],
   "source": [
    "# subsetting the dataframe to only include the necessary columns: year, title, text\n",
    "comedy = comedy[['year', 'title', 'text']]"
   ],
   "metadata": {
    "collapsed": false,
    "ExecuteTime": {
     "start_time": "2023-04-23T15:17:18.317444Z",
     "end_time": "2023-04-23T15:17:18.344833Z"
    }
   }
  },
  {
   "cell_type": "code",
   "execution_count": 61,
   "outputs": [
    {
     "name": "stdout",
     "output_type": "stream",
     "text": [
      "<class 'pandas.core.frame.DataFrame'>\n",
      "Int64Index: 394 entries, 0 to 415\n",
      "Data columns (total 3 columns):\n",
      " #   Column  Non-Null Count  Dtype \n",
      "---  ------  --------------  ----- \n",
      " 0   year    394 non-null    int64 \n",
      " 1   title   394 non-null    object\n",
      " 2   text    394 non-null    object\n",
      "dtypes: int64(1), object(2)\n",
      "memory usage: 12.3+ KB\n"
     ]
    }
   ],
   "source": [
    "comedy.info()"
   ],
   "metadata": {
    "collapsed": false,
    "ExecuteTime": {
     "start_time": "2023-04-23T15:17:18.323021Z",
     "end_time": "2023-04-23T15:17:18.344954Z"
    }
   }
  },
  {
   "cell_type": "code",
   "execution_count": 62,
   "outputs": [],
   "source": [
    "# writing the cleaned dataframe to a csv file using the tab delimiter\n",
    "comedy.to_csv('directory to save the cleaned data in', sep='\\t', index=False)"
   ],
   "metadata": {
    "collapsed": false,
    "ExecuteTime": {
     "start_time": "2023-04-23T15:17:18.325800Z",
     "end_time": "2023-04-23T15:17:18.501628Z"
    }
   }
  }
 ],
 "metadata": {
  "kernelspec": {
   "display_name": "Python 3",
   "language": "python",
   "name": "python3"
  },
  "language_info": {
   "codemirror_mode": {
    "name": "ipython",
    "version": 2
   },
   "file_extension": ".py",
   "mimetype": "text/x-python",
   "name": "python",
   "nbconvert_exporter": "python",
   "pygments_lexer": "ipython2",
   "version": "2.7.6"
  }
 },
 "nbformat": 4,
 "nbformat_minor": 0
}
